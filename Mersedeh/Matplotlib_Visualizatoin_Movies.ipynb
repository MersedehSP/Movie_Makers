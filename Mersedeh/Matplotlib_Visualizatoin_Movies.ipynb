{
 "cells": [
  {
   "cell_type": "code",
   "execution_count": 134,
   "metadata": {},
   "outputs": [],
   "source": [
    "#import dependencies and set-up\n",
    "import pandas as pd\n",
    "import matplotlib.pyplot as plt\n",
    "import csv\n",
    "import os\n",
    "from scipy.stats import linregress\n",
    "import scipy.stats as st\n",
    "import matplotlib as mpl\n",
    "import matplotlib.ticker as ticker\n",
    "import numpy as np\n",
    "import seaborn as sns\n",
    "%matplotlib inline"
   ]
  },
  {
   "cell_type": "code",
   "execution_count": 135,
   "metadata": {},
   "outputs": [
    {
     "data": {
      "text/html": [
       "<div>\n",
       "<style scoped>\n",
       "    .dataframe tbody tr th:only-of-type {\n",
       "        vertical-align: middle;\n",
       "    }\n",
       "\n",
       "    .dataframe tbody tr th {\n",
       "        vertical-align: top;\n",
       "    }\n",
       "\n",
       "    .dataframe thead th {\n",
       "        text-align: right;\n",
       "    }\n",
       "</style>\n",
       "<table border=\"1\" class=\"dataframe\">\n",
       "  <thead>\n",
       "    <tr style=\"text-align: right;\">\n",
       "      <th></th>\n",
       "      <th>imdb_title_id</th>\n",
       "      <th>original_title</th>\n",
       "      <th>year</th>\n",
       "      <th>genre</th>\n",
       "      <th>duration</th>\n",
       "      <th>language</th>\n",
       "      <th>production_company</th>\n",
       "      <th>avg_vote</th>\n",
       "      <th>votes</th>\n",
       "      <th>budget</th>\n",
       "      <th>Good_or_Bad_Movie</th>\n",
       "    </tr>\n",
       "  </thead>\n",
       "  <tbody>\n",
       "    <tr>\n",
       "      <th>0</th>\n",
       "      <td>tt7939428</td>\n",
       "      <td>10 Things We Should Do Before We Break Up</td>\n",
       "      <td>2020</td>\n",
       "      <td>Romance</td>\n",
       "      <td>74</td>\n",
       "      <td>English</td>\n",
       "      <td>NaN</td>\n",
       "      <td>4.7</td>\n",
       "      <td>486</td>\n",
       "      <td>25000000</td>\n",
       "      <td>0</td>\n",
       "    </tr>\n",
       "    <tr>\n",
       "      <th>1</th>\n",
       "      <td>tt10740584</td>\n",
       "      <td>Abigail Haunting</td>\n",
       "      <td>2020</td>\n",
       "      <td>Horror</td>\n",
       "      <td>85</td>\n",
       "      <td>English</td>\n",
       "      <td>Indie Film Factory</td>\n",
       "      <td>3.8</td>\n",
       "      <td>398</td>\n",
       "      <td>60000</td>\n",
       "      <td>0</td>\n",
       "    </tr>\n",
       "    <tr>\n",
       "      <th>2</th>\n",
       "      <td>tt11032990</td>\n",
       "      <td>Malibu Rescue: The Next Wave</td>\n",
       "      <td>2020</td>\n",
       "      <td>Action, Adventure, Comedy</td>\n",
       "      <td>68</td>\n",
       "      <td>English</td>\n",
       "      <td>Pacific Bay Entertainment</td>\n",
       "      <td>4.5</td>\n",
       "      <td>386</td>\n",
       "      <td>5000000</td>\n",
       "      <td>0</td>\n",
       "    </tr>\n",
       "    <tr>\n",
       "      <th>3</th>\n",
       "      <td>tt8461224</td>\n",
       "      <td>The Tax Collector</td>\n",
       "      <td>2020</td>\n",
       "      <td>Action, Crime, Drama</td>\n",
       "      <td>95</td>\n",
       "      <td>English</td>\n",
       "      <td>Cedar Park Entertainment</td>\n",
       "      <td>4.7</td>\n",
       "      <td>4862</td>\n",
       "      <td>30000000</td>\n",
       "      <td>0</td>\n",
       "    </tr>\n",
       "    <tr>\n",
       "      <th>4</th>\n",
       "      <td>tt11547496</td>\n",
       "      <td>Camp Blood 8: Revelations</td>\n",
       "      <td>2020</td>\n",
       "      <td>Horror</td>\n",
       "      <td>82</td>\n",
       "      <td>English</td>\n",
       "      <td>Sterling Entertainment</td>\n",
       "      <td>2.2</td>\n",
       "      <td>114</td>\n",
       "      <td>10000</td>\n",
       "      <td>0</td>\n",
       "    </tr>\n",
       "    <tr>\n",
       "      <th>...</th>\n",
       "      <td>...</td>\n",
       "      <td>...</td>\n",
       "      <td>...</td>\n",
       "      <td>...</td>\n",
       "      <td>...</td>\n",
       "      <td>...</td>\n",
       "      <td>...</td>\n",
       "      <td>...</td>\n",
       "      <td>...</td>\n",
       "      <td>...</td>\n",
       "      <td>...</td>\n",
       "    </tr>\n",
       "    <tr>\n",
       "      <th>10340</th>\n",
       "      <td>tt0004465</td>\n",
       "      <td>The Perils of Pauline</td>\n",
       "      <td>1914</td>\n",
       "      <td>Action, Adventure, Drama</td>\n",
       "      <td>199</td>\n",
       "      <td>English</td>\n",
       "      <td>PathÃ© FrÃ¨res</td>\n",
       "      <td>6.3</td>\n",
       "      <td>939</td>\n",
       "      <td>25000</td>\n",
       "      <td>0</td>\n",
       "    </tr>\n",
       "    <tr>\n",
       "      <th>10341</th>\n",
       "      <td>tt0004181</td>\n",
       "      <td>Judith of Bethulia</td>\n",
       "      <td>1914</td>\n",
       "      <td>Drama</td>\n",
       "      <td>61</td>\n",
       "      <td>English</td>\n",
       "      <td>Biograph Company</td>\n",
       "      <td>6.1</td>\n",
       "      <td>1239</td>\n",
       "      <td>40000</td>\n",
       "      <td>0</td>\n",
       "    </tr>\n",
       "    <tr>\n",
       "      <th>10342</th>\n",
       "      <td>tt0004099</td>\n",
       "      <td>His Majesty, the Scarecrow of Oz</td>\n",
       "      <td>1914</td>\n",
       "      <td>Family, Fantasy, Adventure</td>\n",
       "      <td>59</td>\n",
       "      <td>English</td>\n",
       "      <td>The Oz Film Manufacturing Company</td>\n",
       "      <td>5.2</td>\n",
       "      <td>415</td>\n",
       "      <td>23500</td>\n",
       "      <td>0</td>\n",
       "    </tr>\n",
       "    <tr>\n",
       "      <th>10343</th>\n",
       "      <td>tt0003471</td>\n",
       "      <td>Traffic in Souls</td>\n",
       "      <td>1913</td>\n",
       "      <td>Crime, Drama</td>\n",
       "      <td>88</td>\n",
       "      <td>English</td>\n",
       "      <td>Independent Moving Pictures Co. of America (IMP)</td>\n",
       "      <td>6.0</td>\n",
       "      <td>552</td>\n",
       "      <td>5700</td>\n",
       "      <td>0</td>\n",
       "    </tr>\n",
       "    <tr>\n",
       "      <th>10344</th>\n",
       "      <td>tt0002101</td>\n",
       "      <td>Cleopatra</td>\n",
       "      <td>1912</td>\n",
       "      <td>Drama, History</td>\n",
       "      <td>100</td>\n",
       "      <td>English</td>\n",
       "      <td>Helen Gardner Picture Players</td>\n",
       "      <td>5.2</td>\n",
       "      <td>446</td>\n",
       "      <td>45000</td>\n",
       "      <td>0</td>\n",
       "    </tr>\n",
       "  </tbody>\n",
       "</table>\n",
       "<p>10345 rows × 11 columns</p>\n",
       "</div>"
      ],
      "text/plain": [
       "      imdb_title_id                             original_title  year  \\\n",
       "0         tt7939428  10 Things We Should Do Before We Break Up  2020   \n",
       "1        tt10740584                           Abigail Haunting  2020   \n",
       "2        tt11032990               Malibu Rescue: The Next Wave  2020   \n",
       "3         tt8461224                          The Tax Collector  2020   \n",
       "4        tt11547496                  Camp Blood 8: Revelations  2020   \n",
       "...             ...                                        ...   ...   \n",
       "10340     tt0004465                      The Perils of Pauline  1914   \n",
       "10341     tt0004181                         Judith of Bethulia  1914   \n",
       "10342     tt0004099           His Majesty, the Scarecrow of Oz  1914   \n",
       "10343     tt0003471                           Traffic in Souls  1913   \n",
       "10344     tt0002101                                  Cleopatra  1912   \n",
       "\n",
       "                            genre  duration language  \\\n",
       "0                         Romance        74  English   \n",
       "1                          Horror        85  English   \n",
       "2       Action, Adventure, Comedy        68  English   \n",
       "3            Action, Crime, Drama        95  English   \n",
       "4                          Horror        82  English   \n",
       "...                           ...       ...      ...   \n",
       "10340    Action, Adventure, Drama       199  English   \n",
       "10341                       Drama        61  English   \n",
       "10342  Family, Fantasy, Adventure        59  English   \n",
       "10343                Crime, Drama        88  English   \n",
       "10344              Drama, History       100  English   \n",
       "\n",
       "                                     production_company  avg_vote  votes  \\\n",
       "0                                                   NaN       4.7    486   \n",
       "1                                    Indie Film Factory       3.8    398   \n",
       "2                             Pacific Bay Entertainment       4.5    386   \n",
       "3                              Cedar Park Entertainment       4.7   4862   \n",
       "4                                Sterling Entertainment       2.2    114   \n",
       "...                                                 ...       ...    ...   \n",
       "10340                                    PathÃ© FrÃ¨res       6.3    939   \n",
       "10341                                  Biograph Company       6.1   1239   \n",
       "10342                 The Oz Film Manufacturing Company       5.2    415   \n",
       "10343  Independent Moving Pictures Co. of America (IMP)       6.0    552   \n",
       "10344                     Helen Gardner Picture Players       5.2    446   \n",
       "\n",
       "         budget  Good_or_Bad_Movie  \n",
       "0      25000000                  0  \n",
       "1         60000                  0  \n",
       "2       5000000                  0  \n",
       "3      30000000                  0  \n",
       "4         10000                  0  \n",
       "...         ...                ...  \n",
       "10340     25000                  0  \n",
       "10341     40000                  0  \n",
       "10342     23500                  0  \n",
       "10343      5700                  0  \n",
       "10344     45000                  0  \n",
       "\n",
       "[10345 rows x 11 columns]"
      ]
     },
     "execution_count": 135,
     "metadata": {},
     "output_type": "execute_result"
    }
   ],
   "source": [
    "data_path = \"Resources/movies.csv\"\n",
    "\n",
    "movie_df = pd.read_csv(data_path)\n",
    "movie_df"
   ]
  },
  {
   "cell_type": "code",
   "execution_count": 136,
   "metadata": {},
   "outputs": [
    {
     "data": {
      "text/html": [
       "<div>\n",
       "<style scoped>\n",
       "    .dataframe tbody tr th:only-of-type {\n",
       "        vertical-align: middle;\n",
       "    }\n",
       "\n",
       "    .dataframe tbody tr th {\n",
       "        vertical-align: top;\n",
       "    }\n",
       "\n",
       "    .dataframe thead th {\n",
       "        text-align: right;\n",
       "    }\n",
       "</style>\n",
       "<table border=\"1\" class=\"dataframe\">\n",
       "  <thead>\n",
       "    <tr style=\"text-align: right;\">\n",
       "      <th></th>\n",
       "      <th>imdb_title_id</th>\n",
       "      <th>original_title</th>\n",
       "      <th>year</th>\n",
       "      <th>genre</th>\n",
       "      <th>duration</th>\n",
       "      <th>language</th>\n",
       "      <th>production_company</th>\n",
       "      <th>avg_vote</th>\n",
       "      <th>votes</th>\n",
       "      <th>budget</th>\n",
       "      <th>Good_or_Bad_Movie</th>\n",
       "    </tr>\n",
       "  </thead>\n",
       "  <tbody>\n",
       "    <tr>\n",
       "      <th>0</th>\n",
       "      <td>tt7939428</td>\n",
       "      <td>10 Things We Should Do Before We Break Up</td>\n",
       "      <td>2020</td>\n",
       "      <td>Romance</td>\n",
       "      <td>74</td>\n",
       "      <td>English</td>\n",
       "      <td>NaN</td>\n",
       "      <td>4.7</td>\n",
       "      <td>486</td>\n",
       "      <td>25000000</td>\n",
       "      <td>0</td>\n",
       "    </tr>\n",
       "    <tr>\n",
       "      <th>1</th>\n",
       "      <td>tt10740584</td>\n",
       "      <td>Abigail Haunting</td>\n",
       "      <td>2020</td>\n",
       "      <td>Horror</td>\n",
       "      <td>85</td>\n",
       "      <td>English</td>\n",
       "      <td>Indie Film Factory</td>\n",
       "      <td>3.8</td>\n",
       "      <td>398</td>\n",
       "      <td>60000</td>\n",
       "      <td>0</td>\n",
       "    </tr>\n",
       "    <tr>\n",
       "      <th>2</th>\n",
       "      <td>tt11032990</td>\n",
       "      <td>Malibu Rescue: The Next Wave</td>\n",
       "      <td>2020</td>\n",
       "      <td>Action</td>\n",
       "      <td>68</td>\n",
       "      <td>English</td>\n",
       "      <td>Pacific Bay Entertainment</td>\n",
       "      <td>4.5</td>\n",
       "      <td>386</td>\n",
       "      <td>5000000</td>\n",
       "      <td>0</td>\n",
       "    </tr>\n",
       "    <tr>\n",
       "      <th>3</th>\n",
       "      <td>tt8461224</td>\n",
       "      <td>The Tax Collector</td>\n",
       "      <td>2020</td>\n",
       "      <td>Action</td>\n",
       "      <td>95</td>\n",
       "      <td>English</td>\n",
       "      <td>Cedar Park Entertainment</td>\n",
       "      <td>4.7</td>\n",
       "      <td>4862</td>\n",
       "      <td>30000000</td>\n",
       "      <td>0</td>\n",
       "    </tr>\n",
       "    <tr>\n",
       "      <th>4</th>\n",
       "      <td>tt11547496</td>\n",
       "      <td>Camp Blood 8: Revelations</td>\n",
       "      <td>2020</td>\n",
       "      <td>Horror</td>\n",
       "      <td>82</td>\n",
       "      <td>English</td>\n",
       "      <td>Sterling Entertainment</td>\n",
       "      <td>2.2</td>\n",
       "      <td>114</td>\n",
       "      <td>10000</td>\n",
       "      <td>0</td>\n",
       "    </tr>\n",
       "    <tr>\n",
       "      <th>...</th>\n",
       "      <td>...</td>\n",
       "      <td>...</td>\n",
       "      <td>...</td>\n",
       "      <td>...</td>\n",
       "      <td>...</td>\n",
       "      <td>...</td>\n",
       "      <td>...</td>\n",
       "      <td>...</td>\n",
       "      <td>...</td>\n",
       "      <td>...</td>\n",
       "      <td>...</td>\n",
       "    </tr>\n",
       "    <tr>\n",
       "      <th>10340</th>\n",
       "      <td>tt0004465</td>\n",
       "      <td>The Perils of Pauline</td>\n",
       "      <td>1914</td>\n",
       "      <td>Action</td>\n",
       "      <td>199</td>\n",
       "      <td>English</td>\n",
       "      <td>PathÃ© FrÃ¨res</td>\n",
       "      <td>6.3</td>\n",
       "      <td>939</td>\n",
       "      <td>25000</td>\n",
       "      <td>0</td>\n",
       "    </tr>\n",
       "    <tr>\n",
       "      <th>10341</th>\n",
       "      <td>tt0004181</td>\n",
       "      <td>Judith of Bethulia</td>\n",
       "      <td>1914</td>\n",
       "      <td>Drama</td>\n",
       "      <td>61</td>\n",
       "      <td>English</td>\n",
       "      <td>Biograph Company</td>\n",
       "      <td>6.1</td>\n",
       "      <td>1239</td>\n",
       "      <td>40000</td>\n",
       "      <td>0</td>\n",
       "    </tr>\n",
       "    <tr>\n",
       "      <th>10342</th>\n",
       "      <td>tt0004099</td>\n",
       "      <td>His Majesty, the Scarecrow of Oz</td>\n",
       "      <td>1914</td>\n",
       "      <td>Family</td>\n",
       "      <td>59</td>\n",
       "      <td>English</td>\n",
       "      <td>The Oz Film Manufacturing Company</td>\n",
       "      <td>5.2</td>\n",
       "      <td>415</td>\n",
       "      <td>23500</td>\n",
       "      <td>0</td>\n",
       "    </tr>\n",
       "    <tr>\n",
       "      <th>10343</th>\n",
       "      <td>tt0003471</td>\n",
       "      <td>Traffic in Souls</td>\n",
       "      <td>1913</td>\n",
       "      <td>Crime</td>\n",
       "      <td>88</td>\n",
       "      <td>English</td>\n",
       "      <td>Independent Moving Pictures Co. of America (IMP)</td>\n",
       "      <td>6.0</td>\n",
       "      <td>552</td>\n",
       "      <td>5700</td>\n",
       "      <td>0</td>\n",
       "    </tr>\n",
       "    <tr>\n",
       "      <th>10344</th>\n",
       "      <td>tt0002101</td>\n",
       "      <td>Cleopatra</td>\n",
       "      <td>1912</td>\n",
       "      <td>Drama</td>\n",
       "      <td>100</td>\n",
       "      <td>English</td>\n",
       "      <td>Helen Gardner Picture Players</td>\n",
       "      <td>5.2</td>\n",
       "      <td>446</td>\n",
       "      <td>45000</td>\n",
       "      <td>0</td>\n",
       "    </tr>\n",
       "  </tbody>\n",
       "</table>\n",
       "<p>10345 rows × 11 columns</p>\n",
       "</div>"
      ],
      "text/plain": [
       "      imdb_title_id                             original_title  year    genre  \\\n",
       "0         tt7939428  10 Things We Should Do Before We Break Up  2020  Romance   \n",
       "1        tt10740584                           Abigail Haunting  2020   Horror   \n",
       "2        tt11032990               Malibu Rescue: The Next Wave  2020   Action   \n",
       "3         tt8461224                          The Tax Collector  2020   Action   \n",
       "4        tt11547496                  Camp Blood 8: Revelations  2020   Horror   \n",
       "...             ...                                        ...   ...      ...   \n",
       "10340     tt0004465                      The Perils of Pauline  1914   Action   \n",
       "10341     tt0004181                         Judith of Bethulia  1914    Drama   \n",
       "10342     tt0004099           His Majesty, the Scarecrow of Oz  1914   Family   \n",
       "10343     tt0003471                           Traffic in Souls  1913    Crime   \n",
       "10344     tt0002101                                  Cleopatra  1912    Drama   \n",
       "\n",
       "       duration language                                production_company  \\\n",
       "0            74  English                                               NaN   \n",
       "1            85  English                                Indie Film Factory   \n",
       "2            68  English                         Pacific Bay Entertainment   \n",
       "3            95  English                          Cedar Park Entertainment   \n",
       "4            82  English                            Sterling Entertainment   \n",
       "...         ...      ...                                               ...   \n",
       "10340       199  English                                    PathÃ© FrÃ¨res   \n",
       "10341        61  English                                  Biograph Company   \n",
       "10342        59  English                 The Oz Film Manufacturing Company   \n",
       "10343        88  English  Independent Moving Pictures Co. of America (IMP)   \n",
       "10344       100  English                     Helen Gardner Picture Players   \n",
       "\n",
       "       avg_vote  votes    budget  Good_or_Bad_Movie  \n",
       "0           4.7    486  25000000                  0  \n",
       "1           3.8    398     60000                  0  \n",
       "2           4.5    386   5000000                  0  \n",
       "3           4.7   4862  30000000                  0  \n",
       "4           2.2    114     10000                  0  \n",
       "...         ...    ...       ...                ...  \n",
       "10340       6.3    939     25000                  0  \n",
       "10341       6.1   1239     40000                  0  \n",
       "10342       5.2    415     23500                  0  \n",
       "10343       6.0    552      5700                  0  \n",
       "10344       5.2    446     45000                  0  \n",
       "\n",
       "[10345 rows x 11 columns]"
      ]
     },
     "execution_count": 136,
     "metadata": {},
     "output_type": "execute_result"
    }
   ],
   "source": [
    "movie_df[\"genre\"]= movie_df[\"genre\"].str.split(',', expand=True)\n",
    "movie_df"
   ]
  },
  {
   "cell_type": "code",
   "execution_count": 137,
   "metadata": {},
   "outputs": [
    {
     "data": {
      "image/png": "[encoded data removed]",
      "text/plain": [
       "<Figure size 1440x360 with 1 Axes>"
      ]
     },
     "metadata": {
      "needs_background": "light"
     },
     "output_type": "display_data"
    }
   ],
   "source": [
    "year_gb = movie_df.groupby([\"year\"])\n",
    "movie_count = year_gb.count()[\"original_title\"]\n",
    "movie_count_chart= movie_count.plot(kind= \"bar\", figsize=(20,5))\n",
    "plt.title(\"Movie Count per Year\")\n",
    "movie_count_chart.set_ylabel(\"Count\")\n",
    "plt.show()"
   ]
  },
  {
   "cell_type": "code",
   "execution_count": 138,
   "metadata": {},
   "outputs": [
    {
     "data": {
      "text/plain": [
       "year\n",
       "1912     0\n",
       "1913     0\n",
       "1914     0\n",
       "1915     0\n",
       "1916     1\n",
       "        ..\n",
       "2016    27\n",
       "2017    27\n",
       "2018    36\n",
       "2019    24\n",
       "2020     2\n",
       "Name: Good_or_Bad_Movie, Length: 109, dtype: int64"
      ]
     },
     "execution_count": 138,
     "metadata": {},
     "output_type": "execute_result"
    }
   ],
   "source": [
    "good_movies_per_year = year_gb.sum()[\"Good_or_Bad_Movie\"]\n",
    "good_movies_per_year"
   ]
  },
  {
   "cell_type": "code",
   "execution_count": 139,
   "metadata": {},
   "outputs": [
    {
     "data": {
      "image/png": "[encoded data removed]",
      "text/plain": [
       "<Figure size 432x288 with 1 Axes>"
      ]
     },
     "metadata": {
      "needs_background": "light"
     },
     "output_type": "display_data"
    }
   ],
   "source": [
    "IMDB =movie_df[\"avg_vote\"]\n",
    "duration = movie_df[\"duration\"]\n",
    "(slope, intercept, rvalue, pvalue, stderr) = linregress(IMDB, duration)\n",
    "regress_values = IMDB * slope + intercept\n",
    "line_eq = \"y = \" + str(round(slope,2)) + \"x + \" + str(round(intercept,2))\n",
    "plt.scatter(IMDB, duration)\n",
    "\n",
    "plt.plot(IMDB,regress_values,\"r-\")\n",
    "plt.annotate(line_eq,(20,100),fontsize=15,color=\"red\")\n",
    "plt.xlabel('IMDB rating')\n",
    "plt.ylabel('movie duration')\n",
    "plt.show()"
   ]
  },
  {
   "cell_type": "code",
   "execution_count": 140,
   "metadata": {},
   "outputs": [
    {
     "data": {
      "image/png": "[encoded data removed]",
      "text/plain": [
       "<Figure size 432x288 with 1 Axes>"
      ]
     },
     "metadata": {
      "needs_background": "light"
     },
     "output_type": "display_data"
    }
   ],
   "source": [
    "IMDB =movie_df[\"avg_vote\"]\n",
    "budget = movie_df[\"budget\"]\n",
    "(slope, intercept, rvalue, pvalue, stderr) = linregress(IMDB, budget)\n",
    "regress_values = IMDB * slope + intercept\n",
    "line_eq = \"y = \" + str(round(slope,2)) + \"x + \" + str(round(intercept,2))\n",
    "plt.scatter(IMDB, budget)\n",
    "\n",
    "plt.plot(IMDB,regress_values,\"r-\")\n",
    "plt.annotate(line_eq,(20,100),fontsize=15,color=\"red\")\n",
    "plt.xlabel('IMDB rating')\n",
    "plt.ylabel('budget')\n",
    "plt.show()"
   ]
  },
  {
   "cell_type": "code",
   "execution_count": 141,
   "metadata": {},
   "outputs": [],
   "source": [
    "budget_bins = [9999,99999,999999,9999999,99999999,999999999]\n",
    "budget_range = [\"<100K\",\"100K-1M\",\"1M-10M\",\"10M-100M\",\"100M-1B\"]\n",
    "budget_df = movie_df.loc[:,[\"avg_vote\",\"budget\", \"original_title\", \"duration\"]].drop_duplicates()\n",
    "budget_df[\"budget_cut\"]=pd.cut(budgets_df[\"budget\"], budget_bins, labels = budget_range)\n",
    "\n",
    "budget_df_gb = budget_df.groupby(\"budget_cut\")\n",
    "avg_imdb_score = budget_df_gb[\"avg_vote\"].mean()\n"
   ]
  },
  {
   "cell_type": "code",
   "execution_count": 142,
   "metadata": {},
   "outputs": [],
   "source": [
    "budget_count = budget_df[\"budget_cut\"].value_counts()"
   ]
  },
  {
   "cell_type": "code",
   "execution_count": 143,
   "metadata": {},
   "outputs": [
    {
     "data": {
      "text/html": [
       "<div>\n",
       "<style scoped>\n",
       "    .dataframe tbody tr th:only-of-type {\n",
       "        vertical-align: middle;\n",
       "    }\n",
       "\n",
       "    .dataframe tbody tr th {\n",
       "        vertical-align: top;\n",
       "    }\n",
       "\n",
       "    .dataframe thead th {\n",
       "        text-align: right;\n",
       "    }\n",
       "</style>\n",
       "<table border=\"1\" class=\"dataframe\">\n",
       "  <thead>\n",
       "    <tr style=\"text-align: right;\">\n",
       "      <th></th>\n",
       "      <th>Total Count</th>\n",
       "      <th>avg_score</th>\n",
       "    </tr>\n",
       "  </thead>\n",
       "  <tbody>\n",
       "    <tr>\n",
       "      <th>&lt;100K</th>\n",
       "      <td>929</td>\n",
       "      <td>4.736168</td>\n",
       "    </tr>\n",
       "    <tr>\n",
       "      <th>100K-1M</th>\n",
       "      <td>2468</td>\n",
       "      <td>5.503201</td>\n",
       "    </tr>\n",
       "    <tr>\n",
       "      <th>1M-10M</th>\n",
       "      <td>3839</td>\n",
       "      <td>5.778302</td>\n",
       "    </tr>\n",
       "    <tr>\n",
       "      <th>10M-100M</th>\n",
       "      <td>2694</td>\n",
       "      <td>6.164514</td>\n",
       "    </tr>\n",
       "    <tr>\n",
       "      <th>100M-1B</th>\n",
       "      <td>218</td>\n",
       "      <td>6.633486</td>\n",
       "    </tr>\n",
       "  </tbody>\n",
       "</table>\n",
       "</div>"
      ],
      "text/plain": [
       "          Total Count  avg_score\n",
       "<100K             929   4.736168\n",
       "100K-1M          2468   5.503201\n",
       "1M-10M           3839   5.778302\n",
       "10M-100M         2694   6.164514\n",
       "100M-1B           218   6.633486"
      ]
     },
     "execution_count": 143,
     "metadata": {},
     "output_type": "execute_result"
    }
   ],
   "source": [
    "budget_count_df = pd.DataFrame({\"Total Count\":budget_count, \"avg_score\": avg_imdb_score })\n",
    "budget_count_df.sort_index()"
   ]
  },
  {
   "cell_type": "code",
   "execution_count": 144,
   "metadata": {},
   "outputs": [
    {
     "data": {
      "text/plain": [
       "budget_cut\n",
       "<100K       4.736168\n",
       "100K-1M     5.503201\n",
       "1M-10M      5.778302\n",
       "10M-100M    6.164514\n",
       "100M-1B     6.633486\n",
       "Name: avg_vote, dtype: float64"
      ]
     },
     "execution_count": 144,
     "metadata": {},
     "output_type": "execute_result"
    }
   ],
   "source": [
    "#budget_count_df[\"avg_imdb_score\"]\n",
    "#budget_count\n",
    "avg_imdb_score"
   ]
  },
  {
   "cell_type": "code",
   "execution_count": 145,
   "metadata": {},
   "outputs": [
    {
     "data": {
      "image/png": "[encoded data removed]",
      "text/plain": [
       "<Figure size 432x288 with 1 Axes>"
      ]
     },
     "metadata": {
      "needs_background": "light"
     },
     "output_type": "display_data"
    }
   ],
   "source": [
    "new_imdb = avg_imdb_score\n",
    "new_budget = budget_count\n",
    "(slope, intercept, rvalue, pvalue, stderr) = linregress(new_imdb, new_budget)\n",
    "regress_values = new_imdb * slope + intercept\n",
    "line_eq = \"y = \" + str(round(slope,2)) + \"x + \" + str(round(intercept,2))\n",
    "plt.scatter(new_imdb, new_budget)\n",
    "\n",
    "plt.plot(new_imdb,regress_values,\"r-\")\n",
    "plt.annotate(line_eq,(10,100),fontsize=15,color=\"red\")\n",
    "plt.xlabel('new_imdb rating')\n",
    "plt.ylabel('movie count')\n",
    "plt.show()"
   ]
  },
  {
   "cell_type": "code",
   "execution_count": 146,
   "metadata": {},
   "outputs": [
    {
     "data": {
      "text/plain": [
       "0        10M-100M\n",
       "1           <100K\n",
       "2          1M-10M\n",
       "3        10M-100M\n",
       "4           <100K\n",
       "           ...   \n",
       "10340       <100K\n",
       "10341       <100K\n",
       "10342       <100K\n",
       "10343         NaN\n",
       "10344       <100K\n",
       "Name: budget_cut, Length: 10345, dtype: category\n",
       "Categories (5, object): [<100K < 100K-1M < 1M-10M < 10M-100M < 100M-1B]"
      ]
     },
     "execution_count": 146,
     "metadata": {},
     "output_type": "execute_result"
    }
   ],
   "source": [
    "budget_df[\"budget_cut\"]"
   ]
  },
  {
   "cell_type": "code",
   "execution_count": 147,
   "metadata": {},
   "outputs": [],
   "source": [
    "#####Genre######"
   ]
  },
  {
   "cell_type": "code",
   "execution_count": 148,
   "metadata": {},
   "outputs": [
    {
     "name": "stdout",
     "output_type": "stream",
     "text": [
      "number of unique genre: 22\n"
     ]
    }
   ],
   "source": [
    "unique_genre = len(movie_df[\"genre\"].unique())\n",
    "print(\"number of unique genre:\", unique_genre)"
   ]
  },
  {
   "cell_type": "code",
   "execution_count": 149,
   "metadata": {},
   "outputs": [
    {
     "data": {
      "text/plain": [
       "array(['Romance', 'Horror', 'Action', 'Sci-Fi', 'Comedy', 'Drama',\n",
       "       'Crime', 'Thriller', 'Biography', 'Adventure', 'Western',\n",
       "       'Animation', 'Fantasy', 'Family', 'Mystery', 'Music', 'Musical',\n",
       "       'Sport', 'Documentary', 'War', 'History', 'Film-Noir'],\n",
       "      dtype=object)"
      ]
     },
     "execution_count": 149,
     "metadata": {},
     "output_type": "execute_result"
    }
   ],
   "source": [
    "genre_list = movie_df[\"genre\"].unique()\n",
    "genre_list"
   ]
  },
  {
   "cell_type": "code",
   "execution_count": 150,
   "metadata": {},
   "outputs": [
    {
     "data": {
      "text/html": [
       "<div>\n",
       "<style scoped>\n",
       "    .dataframe tbody tr th:only-of-type {\n",
       "        vertical-align: middle;\n",
       "    }\n",
       "\n",
       "    .dataframe tbody tr th {\n",
       "        vertical-align: top;\n",
       "    }\n",
       "\n",
       "    .dataframe thead th {\n",
       "        text-align: right;\n",
       "    }\n",
       "</style>\n",
       "<table border=\"1\" class=\"dataframe\">\n",
       "  <thead>\n",
       "    <tr style=\"text-align: right;\">\n",
       "      <th></th>\n",
       "      <th>index</th>\n",
       "      <th>genre</th>\n",
       "      <th>avg_vote</th>\n",
       "      <th>duration</th>\n",
       "      <th>count</th>\n",
       "    </tr>\n",
       "  </thead>\n",
       "  <tbody>\n",
       "    <tr>\n",
       "      <th>0</th>\n",
       "      <td>0</td>\n",
       "      <td>Action</td>\n",
       "      <td>1.2</td>\n",
       "      <td>80</td>\n",
       "      <td>1</td>\n",
       "    </tr>\n",
       "    <tr>\n",
       "      <th>1</th>\n",
       "      <td>1</td>\n",
       "      <td>Action</td>\n",
       "      <td>1.3</td>\n",
       "      <td>71</td>\n",
       "      <td>1</td>\n",
       "    </tr>\n",
       "    <tr>\n",
       "      <th>2</th>\n",
       "      <td>2</td>\n",
       "      <td>Action</td>\n",
       "      <td>1.4</td>\n",
       "      <td>90</td>\n",
       "      <td>1</td>\n",
       "    </tr>\n",
       "    <tr>\n",
       "      <th>3</th>\n",
       "      <td>3</td>\n",
       "      <td>Action</td>\n",
       "      <td>1.5</td>\n",
       "      <td>87</td>\n",
       "      <td>1</td>\n",
       "    </tr>\n",
       "    <tr>\n",
       "      <th>4</th>\n",
       "      <td>4</td>\n",
       "      <td>Action</td>\n",
       "      <td>1.5</td>\n",
       "      <td>90</td>\n",
       "      <td>1</td>\n",
       "    </tr>\n",
       "    <tr>\n",
       "      <th>...</th>\n",
       "      <td>...</td>\n",
       "      <td>...</td>\n",
       "      <td>...</td>\n",
       "      <td>...</td>\n",
       "      <td>...</td>\n",
       "    </tr>\n",
       "    <tr>\n",
       "      <th>7066</th>\n",
       "      <td>7066</td>\n",
       "      <td>Western</td>\n",
       "      <td>7.3</td>\n",
       "      <td>92</td>\n",
       "      <td>1</td>\n",
       "    </tr>\n",
       "    <tr>\n",
       "      <th>7067</th>\n",
       "      <td>7067</td>\n",
       "      <td>Western</td>\n",
       "      <td>7.3</td>\n",
       "      <td>96</td>\n",
       "      <td>1</td>\n",
       "    </tr>\n",
       "    <tr>\n",
       "      <th>7068</th>\n",
       "      <td>7068</td>\n",
       "      <td>Western</td>\n",
       "      <td>7.3</td>\n",
       "      <td>104</td>\n",
       "      <td>1</td>\n",
       "    </tr>\n",
       "    <tr>\n",
       "      <th>7069</th>\n",
       "      <td>7069</td>\n",
       "      <td>Western</td>\n",
       "      <td>7.4</td>\n",
       "      <td>111</td>\n",
       "      <td>1</td>\n",
       "    </tr>\n",
       "    <tr>\n",
       "      <th>7070</th>\n",
       "      <td>7070</td>\n",
       "      <td>Western</td>\n",
       "      <td>7.8</td>\n",
       "      <td>135</td>\n",
       "      <td>1</td>\n",
       "    </tr>\n",
       "  </tbody>\n",
       "</table>\n",
       "<p>7071 rows × 5 columns</p>\n",
       "</div>"
      ],
      "text/plain": [
       "      index    genre  avg_vote  duration  count\n",
       "0         0   Action       1.2        80      1\n",
       "1         1   Action       1.3        71      1\n",
       "2         2   Action       1.4        90      1\n",
       "3         3   Action       1.5        87      1\n",
       "4         4   Action       1.5        90      1\n",
       "...     ...      ...       ...       ...    ...\n",
       "7066   7066  Western       7.3        92      1\n",
       "7067   7067  Western       7.3        96      1\n",
       "7068   7068  Western       7.3       104      1\n",
       "7069   7069  Western       7.4       111      1\n",
       "7070   7070  Western       7.8       135      1\n",
       "\n",
       "[7071 rows x 5 columns]"
      ]
     },
     "execution_count": 150,
     "metadata": {},
     "output_type": "execute_result"
    }
   ],
   "source": [
    "genre_gb = movie_df.groupby([\"genre\", \"avg_vote\",\"duration\"]).size().reset_index().rename(columns={0:'count'})\n",
    "genre_gb_df = genre_gb.reset_index()\n",
    "genre_gb_df"
   ]
  },
  {
   "cell_type": "code",
   "execution_count": 151,
   "metadata": {},
   "outputs": [
    {
     "data": {
      "text/plain": [
       "genre\n",
       "Action         5.527679\n",
       "Adventure      5.993293\n",
       "Animation      6.453138\n",
       "Biography      6.779866\n",
       "Comedy         5.778223\n",
       "Crime          6.158747\n",
       "Documentary    7.500000\n",
       "Drama          6.114233\n",
       "Family         4.969048\n",
       "Fantasy        5.211392\n",
       "Film-Noir      7.280000\n",
       "History        6.571429\n",
       "Horror         4.362098\n",
       "Music          6.600000\n",
       "Musical        6.257143\n",
       "Mystery        5.920000\n",
       "Romance        5.789091\n",
       "Sci-Fi         4.240000\n",
       "Sport          6.550000\n",
       "Thriller       4.510000\n",
       "Name: avg_vote, dtype: float64"
      ]
     },
     "execution_count": 151,
     "metadata": {},
     "output_type": "execute_result"
    }
   ],
   "source": [
    "genre_avg_imdb_df = movie_df.groupby([\"genre\"])[\"avg_vote\"].mean()\n",
    "genre_avg_imdb_df.head(20) \n",
    "#avg_imdb = genre_gb2([\"avg_vote\"]).mean()\n",
    "#avg_imdb"
   ]
  },
  {
   "cell_type": "code",
   "execution_count": 152,
   "metadata": {},
   "outputs": [
    {
     "data": {
      "image/png": "[encoded data removed]",
      "text/plain": [
       "<Figure size 1440x360 with 1 Axes>"
      ]
     },
     "metadata": {
      "needs_background": "light"
     },
     "output_type": "display_data"
    }
   ],
   "source": [
    "genre_bar_chart = genre_avg_imdb_df.sort_values(ascending=False).plot(kind = \"bar\", figsize= (20,5))\n",
    "plt.title(\"Average imdb score per genre\")\n",
    "plt.ylabel('average imdb score');\n",
    "plt.show()"
   ]
  },
  {
   "cell_type": "code",
   "execution_count": 160,
   "metadata": {},
   "outputs": [
    {
     "data": {
      "text/html": [
       "<div>\n",
       "<style scoped>\n",
       "    .dataframe tbody tr th:only-of-type {\n",
       "        vertical-align: middle;\n",
       "    }\n",
       "\n",
       "    .dataframe tbody tr th {\n",
       "        vertical-align: top;\n",
       "    }\n",
       "\n",
       "    .dataframe thead th {\n",
       "        text-align: right;\n",
       "    }\n",
       "</style>\n",
       "<table border=\"1\" class=\"dataframe\">\n",
       "  <thead>\n",
       "    <tr style=\"text-align: right;\">\n",
       "      <th></th>\n",
       "      <th>avg_vote</th>\n",
       "      <th>budget</th>\n",
       "      <th>original_title</th>\n",
       "      <th>duration</th>\n",
       "      <th>genre</th>\n",
       "      <th>budget_cut</th>\n",
       "    </tr>\n",
       "  </thead>\n",
       "  <tbody>\n",
       "    <tr>\n",
       "      <th>0</th>\n",
       "      <td>4.7</td>\n",
       "      <td>25000000</td>\n",
       "      <td>10 Things We Should Do Before We Break Up</td>\n",
       "      <td>74</td>\n",
       "      <td>Romance</td>\n",
       "      <td>10M-100M</td>\n",
       "    </tr>\n",
       "    <tr>\n",
       "      <th>1</th>\n",
       "      <td>3.8</td>\n",
       "      <td>60000</td>\n",
       "      <td>Abigail Haunting</td>\n",
       "      <td>85</td>\n",
       "      <td>Horror</td>\n",
       "      <td>&lt;100K</td>\n",
       "    </tr>\n",
       "    <tr>\n",
       "      <th>2</th>\n",
       "      <td>4.5</td>\n",
       "      <td>5000000</td>\n",
       "      <td>Malibu Rescue: The Next Wave</td>\n",
       "      <td>68</td>\n",
       "      <td>Action</td>\n",
       "      <td>1M-10M</td>\n",
       "    </tr>\n",
       "    <tr>\n",
       "      <th>3</th>\n",
       "      <td>4.7</td>\n",
       "      <td>30000000</td>\n",
       "      <td>The Tax Collector</td>\n",
       "      <td>95</td>\n",
       "      <td>Action</td>\n",
       "      <td>10M-100M</td>\n",
       "    </tr>\n",
       "    <tr>\n",
       "      <th>4</th>\n",
       "      <td>2.2</td>\n",
       "      <td>10000</td>\n",
       "      <td>Camp Blood 8: Revelations</td>\n",
       "      <td>82</td>\n",
       "      <td>Horror</td>\n",
       "      <td>&lt;100K</td>\n",
       "    </tr>\n",
       "    <tr>\n",
       "      <th>...</th>\n",
       "      <td>...</td>\n",
       "      <td>...</td>\n",
       "      <td>...</td>\n",
       "      <td>...</td>\n",
       "      <td>...</td>\n",
       "      <td>...</td>\n",
       "    </tr>\n",
       "    <tr>\n",
       "      <th>10340</th>\n",
       "      <td>6.3</td>\n",
       "      <td>25000</td>\n",
       "      <td>The Perils of Pauline</td>\n",
       "      <td>199</td>\n",
       "      <td>Action</td>\n",
       "      <td>&lt;100K</td>\n",
       "    </tr>\n",
       "    <tr>\n",
       "      <th>10341</th>\n",
       "      <td>6.1</td>\n",
       "      <td>40000</td>\n",
       "      <td>Judith of Bethulia</td>\n",
       "      <td>61</td>\n",
       "      <td>Drama</td>\n",
       "      <td>&lt;100K</td>\n",
       "    </tr>\n",
       "    <tr>\n",
       "      <th>10342</th>\n",
       "      <td>5.2</td>\n",
       "      <td>23500</td>\n",
       "      <td>His Majesty, the Scarecrow of Oz</td>\n",
       "      <td>59</td>\n",
       "      <td>Family</td>\n",
       "      <td>&lt;100K</td>\n",
       "    </tr>\n",
       "    <tr>\n",
       "      <th>10343</th>\n",
       "      <td>6.0</td>\n",
       "      <td>5700</td>\n",
       "      <td>Traffic in Souls</td>\n",
       "      <td>88</td>\n",
       "      <td>Crime</td>\n",
       "      <td>NaN</td>\n",
       "    </tr>\n",
       "    <tr>\n",
       "      <th>10344</th>\n",
       "      <td>5.2</td>\n",
       "      <td>45000</td>\n",
       "      <td>Cleopatra</td>\n",
       "      <td>100</td>\n",
       "      <td>Drama</td>\n",
       "      <td>&lt;100K</td>\n",
       "    </tr>\n",
       "  </tbody>\n",
       "</table>\n",
       "<p>10345 rows × 6 columns</p>\n",
       "</div>"
      ],
      "text/plain": [
       "       avg_vote    budget                             original_title  \\\n",
       "0           4.7  25000000  10 Things We Should Do Before We Break Up   \n",
       "1           3.8     60000                           Abigail Haunting   \n",
       "2           4.5   5000000               Malibu Rescue: The Next Wave   \n",
       "3           4.7  30000000                          The Tax Collector   \n",
       "4           2.2     10000                  Camp Blood 8: Revelations   \n",
       "...         ...       ...                                        ...   \n",
       "10340       6.3     25000                      The Perils of Pauline   \n",
       "10341       6.1     40000                         Judith of Bethulia   \n",
       "10342       5.2     23500           His Majesty, the Scarecrow of Oz   \n",
       "10343       6.0      5700                           Traffic in Souls   \n",
       "10344       5.2     45000                                  Cleopatra   \n",
       "\n",
       "       duration    genre budget_cut  \n",
       "0            74  Romance   10M-100M  \n",
       "1            85   Horror      <100K  \n",
       "2            68   Action     1M-10M  \n",
       "3            95   Action   10M-100M  \n",
       "4            82   Horror      <100K  \n",
       "...         ...      ...        ...  \n",
       "10340       199   Action      <100K  \n",
       "10341        61    Drama      <100K  \n",
       "10342        59   Family      <100K  \n",
       "10343        88    Crime        NaN  \n",
       "10344       100    Drama      <100K  \n",
       "\n",
       "[10345 rows x 6 columns]"
      ]
     },
     "execution_count": 160,
     "metadata": {},
     "output_type": "execute_result"
    }
   ],
   "source": [
    "budget_bins = [9999,99999,999999,9999999,99999999,999999999]\n",
    "budget_range = [\"<100K\",\"100K-1M\",\"1M-10M\",\"10M-100M\",\"100M-1B\"]\n",
    "budget_df2 = movie_df.loc[:,[\"avg_vote\",\"budget\", \"original_title\", \"duration\",\"genre\"]].drop_duplicates()\n",
    "budget_df2[\"budget_cut\"]=pd.cut(budgets_df[\"budget\"], budget_bins, labels = budget_range)\n",
    "\n",
    "budget_df2"
   ]
  },
  {
   "cell_type": "code",
   "execution_count": 162,
   "metadata": {},
   "outputs": [
    {
     "data": {
      "text/plain": [
       "genre    budget_cut\n",
       "Action   10M-100M      618\n",
       "         1M-10M        600\n",
       "         100K-1M       294\n",
       "         100M-1B       125\n",
       "         <100K          93\n",
       "                      ... \n",
       "War      100K-1M         2\n",
       "Western  1M-10M         43\n",
       "         100K-1M        35\n",
       "         <100K          10\n",
       "         10M-100M        2\n",
       "Name: budget_cut, Length: 83, dtype: int64"
      ]
     },
     "execution_count": 162,
     "metadata": {},
     "output_type": "execute_result"
    }
   ],
   "source": [
    "test1 = budget_df2.groupby([\"genre\"])\n",
    "test2 = test1[\"budget_cut\"].value_counts()\n",
    "test2"
   ]
  },
  {
   "cell_type": "code",
   "execution_count": 166,
   "metadata": {},
   "outputs": [
    {
     "data": {
      "image/png": "[encoded data removed]",
      "text/plain": [
       "<Figure size 1080x720 with 1 Axes>"
      ]
     },
     "metadata": {
      "needs_background": "light"
     },
     "output_type": "display_data"
    }
   ],
   "source": [
    "test2.unstack(0).plot.bar(stacked=True, figsize=(15,10))\n",
    "plt.ylabel('Total movie count base on budget');\n",
    "plt.show()"
   ]
  },
  {
   "cell_type": "code",
   "execution_count": 163,
   "metadata": {},
   "outputs": [
    {
     "data": {
      "text/plain": [
       "budget_cut  genre    \n",
       "<100K       Horror       264\n",
       "            Comedy       217\n",
       "            Drama        191\n",
       "            Action        93\n",
       "            Crime         57\n",
       "                        ... \n",
       "100M-1B     Comedy         7\n",
       "            Drama          6\n",
       "            Biography      3\n",
       "            Crime          1\n",
       "            Family         1\n",
       "Name: genre, Length: 83, dtype: int64"
      ]
     },
     "execution_count": 163,
     "metadata": {},
     "output_type": "execute_result"
    }
   ],
   "source": [
    "test3 = budget_df2.groupby([\"budget_cut\"])\n",
    "test4 = test3[\"genre\"].value_counts()\n",
    "test4"
   ]
  },
  {
   "cell_type": "code",
   "execution_count": 165,
   "metadata": {},
   "outputs": [
    {
     "data": {
      "image/png": "[encoded data removed]",
      "text/plain": [
       "<Figure size 1080x720 with 1 Axes>"
      ]
     },
     "metadata": {
      "needs_background": "light"
     },
     "output_type": "display_data"
    }
   ],
   "source": [
    "test4.unstack(0).plot.bar(stacked=True, figsize=(15,10))\n",
    "plt.ylabel('Total movie count based on Genre');\n",
    "plt.show()"
   ]
  },
  {
   "cell_type": "code",
   "execution_count": null,
   "metadata": {},
   "outputs": [],
   "source": [
    "selected_genre = "
   ]
  },
  {
   "cell_type": "code",
   "execution_count": null,
   "metadata": {},
   "outputs": [],
   "source": []
  },
  {
   "cell_type": "code",
   "execution_count": null,
   "metadata": {},
   "outputs": [],
   "source": [
    "########dont use yet)\n",
    "budget_df_gb2 = budget_df2.groupby([\"genre\"])\n",
    "avg_imdb_score2 = budget_df_gb[\"avg_vote\"].mean()\n",
    "genre_count= budget_df2[\"genre\"].value_counts()\n",
    "budget_count2 = budget_df[\"budget_cut\"].value_counts()"
   ]
  },
  {
   "cell_type": "code",
   "execution_count": 158,
   "metadata": {},
   "outputs": [
    {
     "data": {
      "text/plain": [
       "Comedy         2994\n",
       "Drama          2178\n",
       "Action         1745\n",
       "Horror         1058\n",
       "Crime           766\n",
       "Adventure       492\n",
       "Biography       298\n",
       "Animation       239\n",
       "Thriller        140\n",
       "Western          90\n",
       "Fantasy          79\n",
       "Sci-Fi           70\n",
       "Romance          55\n",
       "Family           42\n",
       "Mystery          40\n",
       "Musical          35\n",
       "History           7\n",
       "Music             7\n",
       "Film-Noir         5\n",
       "Sport             2\n",
       "War               2\n",
       "Documentary       1\n",
       "Name: genre, dtype: int64"
      ]
     },
     "execution_count": 158,
     "metadata": {},
     "output_type": "execute_result"
    }
   ],
   "source": [
    "genre_count"
   ]
  },
  {
   "cell_type": "code",
   "execution_count": null,
   "metadata": {},
   "outputs": [],
   "source": []
  },
  {
   "cell_type": "code",
   "execution_count": null,
   "metadata": {},
   "outputs": [],
   "source": []
  },
  {
   "cell_type": "code",
   "execution_count": null,
   "metadata": {},
   "outputs": [],
   "source": []
  },
  {
   "cell_type": "code",
   "execution_count": null,
   "metadata": {},
   "outputs": [],
   "source": []
  },
  {
   "cell_type": "code",
   "execution_count": null,
   "metadata": {},
   "outputs": [],
   "source": []
  },
  {
   "cell_type": "code",
   "execution_count": null,
   "metadata": {},
   "outputs": [],
   "source": []
  },
  {
   "cell_type": "code",
   "execution_count": null,
   "metadata": {},
   "outputs": [],
   "source": [
    "###########Summary Stats#################"
   ]
  }
 ],
 "metadata": {
  "kernelspec": {
   "display_name": "Python 3",
   "language": "python",
   "name": "python3"
  },
  "language_info": {
   "codemirror_mode": {
    "name": "ipython",
    "version": 3
   },
   "file_extension": ".py",
   "mimetype": "text/x-python",
   "name": "python",
   "nbconvert_exporter": "python",
   "pygments_lexer": "ipython3",
   "version": "3.6.10"
  }
 },
 "nbformat": 4,
 "nbformat_minor": 4
}
